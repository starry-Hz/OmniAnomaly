{
 "cells": [
  {
   "cell_type": "code",
   "execution_count": 1,
   "metadata": {},
   "outputs": [],
   "source": [
    "import os\n",
    "import pandas as pd\n",
    "import numpy as np\n",
    "from pickle import dump\n",
    "output_folder = 'processed'  # 定义保存目录\n",
    "os.makedirs(output_folder, exist_ok=True)  # 如果目录不存在，则创建"
   ]
  },
  {
   "cell_type": "code",
   "execution_count": 2,
   "metadata": {},
   "outputs": [],
   "source": [
    "def load_and_save(filename, dataset_folder):\n",
    "    \"\"\"\n",
    "    处理单个文件：加载 CSV 文件，将其转换为 NumPy 数组并保存为 .pkl 格式。\n",
    "    \n",
    "    Parameters:\n",
    "        filename (str): 要加载的文件名。\n",
    "        dataset_folder (str): 数据集所在的主目录。\n",
    "    \"\"\"\n",
    "    file_path = os.path.join(dataset_folder, filename)\n",
    "    print(f\"Processing file: {file_path}\")\n",
    "    \n",
    "    # 读取 CSV 文件并转换为 NumPy 数组\n",
    "    try:\n",
    "        # .iloc[1:,1:] 删除标题行和timestamp .iloc[1:,1:]\n",
    "        df = pd.read_csv(file_path)\n",
    "        if 'timestamp_(min)' in df.columns:\n",
    "            df = df.drop(columns=['timestamp_(min)'])\n",
    "        # print(df)\n",
    "        temp = df.values.astype(np.float32)\n",
    "        print(f\"Dataset Folder: {dataset_folder}, File: {filename}, Shape: {temp.shape}\")\n",
    "\n",
    "        # 定义输出文件夹并确保其存在\n",
    "        output_folder = 'processed'\n",
    "        os.makedirs(output_folder, exist_ok=True)\n",
    "\n",
    "        # 生成输出文件名并保存为 .pkl\n",
    "        base_name = os.path.splitext(filename)[0]  # 去掉扩展名\n",
    "        formatted_dataset = dataset_folder.replace(os.sep, \"_\")  # 替换路径分隔符为 '_'\n",
    "        save_name = f\"{formatted_dataset}_{base_name}.pkl\".replace(\"__\", \"_\")  # 清理多余下划线\n",
    "        # save_name = f\"{formatted_dataset}_{base_name}.pkl\"\n",
    "        print(save_name)\n",
    "        save_path = os.path.join(output_folder, save_name)\n",
    "        \n",
    "        with open(save_path, \"wb\") as file:\n",
    "            dump(temp, file)\n",
    "        print(f\"Saved to: {save_path}\")\n",
    "    except Exception as e:\n",
    "        print(f\"Error processing {filename}: {e}\")\n",
    "        \n",
    "def load_data(dataset_folder):\n",
    "    \"\"\"\n",
    "    批量处理数据集目录下的所有 CSV 文件。\n",
    "\n",
    "    Parameters:\n",
    "        dataset_folder (str): 数据集所在的主目录。\n",
    "    \"\"\"\n",
    "    file_list = os.listdir(dataset_folder)  # 列出目录中的所有文件\n",
    "    print(f\"Files in dataset folder '{dataset_folder}': {file_list}\")\n",
    "    \n",
    "    # 遍历文件，处理所有 CSV 文件\n",
    "    for filename in file_list:\n",
    "        if filename.endswith('.csv'):\n",
    "            load_and_save(filename, dataset_folder)\n"
   ]
  },
  {
   "cell_type": "code",
   "execution_count": 3,
   "metadata": {},
   "outputs": [
    {
     "name": "stdout",
     "output_type": "stream",
     "text": [
      "(17568, 25)\n",
      "(17568, 1)\n",
      "(132481, 25)\n"
     ]
    }
   ],
   "source": [
    "import numpy as np\n",
    "import pandas as pd\n",
    "\n",
    "def downsampling(mat, interval, batch_index=None):\n",
    "    \"\"\"\n",
    "    对矩阵进行降采样，根据指定的间隔和批次返回数据。\n",
    "    :param mat: 输入的二维矩阵 (NumPy 数组)\n",
    "    :param interval: 采样间隔\n",
    "    :param batch_index: 如果指定，返回该批次的降采样数据；否则返回整体降采样数据。\n",
    "    :return: 降采样后的矩阵\n",
    "    \"\"\"\n",
    "    num_row, num_col = mat.shape\n",
    "    res = num_row % interval\n",
    "\n",
    "    if res != 0:  # 补全行数\n",
    "        add_num = interval - res\n",
    "        add_mat = np.zeros((add_num, num_col))\n",
    "        mat = np.concatenate((mat, add_mat), axis=0)\n",
    "\n",
    "    if batch_index is not None:\n",
    "        # 返回指定批次数据\n",
    "        return mat[batch_index::interval, :]\n",
    "    else:\n",
    "        # 返回整体降采样结果\n",
    "        return mat[::interval, :]\n",
    "\n",
    "\n",
    "\n",
    "# 读取数据\n",
    "data_df = pd.read_csv(\"./PSM/origin_data/test.csv\").iloc[:87840, :]  # 保留列名\n",
    "data_label_df = pd.read_csv(\"./PSM/origin_data/test_label.csv\").iloc[:87840, :]  # 保留列名\n",
    "data_train_df = pd.read_csv(\"./PSM/origin_data/train.csv\")\n",
    "\n",
    "# 转换为 NumPy 数组（不包含列名）\n",
    "data = data_df.iloc[:, 1:].to_numpy()  # 去掉第一列（假设第一列是索引或时间戳）\n",
    "data_label = data_label_df.iloc[:, 1:].to_numpy()  # 去掉第一列\n",
    "data_train = data_train_df.iloc[:, 1:].to_numpy()\n",
    "\n",
    "# 降采样\n",
    "data = downsampling(data, interval=5, batch_index=3)  # 降采样第三批次\n",
    "data_label = downsampling(data_label, interval=5, batch_index=3)  # 降采样第三批次\n",
    "\n",
    "# 保存降采样后的数据\n",
    "# 使用原始列名\n",
    "data_columns = data_df.columns[1:]  # 保留原始列名（去掉第一列）\n",
    "data_label_columns = data_label_df.columns[1:]  # 保留原始列名（去掉第一列）\n",
    "data_train_columns = data_train_df.columns[1:]\n",
    "\n",
    "# 转换为 DataFrame 并保存\n",
    "pd.DataFrame(data, columns=data_columns).to_csv(\"./PSM/down/test.csv\", index=False)\n",
    "pd.DataFrame(data_label, columns=data_label_columns).to_csv(\"./PSM/down/test_label.csv\", index=False)\n",
    "pd.DataFrame(data_train, columns=data_train_columns).to_csv(\"./PSM/down/train.csv\", index=False)\n",
    "print(data.shape)\n",
    "print(data_label.shape)\n",
    "print(data_train.shape)"
   ]
  },
  {
   "cell_type": "code",
   "execution_count": 4,
   "metadata": {},
   "outputs": [
    {
     "name": "stdout",
     "output_type": "stream",
     "text": [
      "Files in dataset folder 'PSM/down/': ['test_label.csv', 'test.csv', 'train.csv']\n",
      "Processing file: PSM/down/test_label.csv\n",
      "Dataset Folder: PSM/down/, File: test_label.csv, Shape: (17568, 1)\n",
      "PSM_down_test_label.pkl\n",
      "Saved to: processed/PSM_down_test_label.pkl\n",
      "Processing file: PSM/down/test.csv\n",
      "Dataset Folder: PSM/down/, File: test.csv, Shape: (17568, 25)\n",
      "PSM_down_test.pkl\n",
      "Saved to: processed/PSM_down_test.pkl\n",
      "Processing file: PSM/down/train.csv\n",
      "Dataset Folder: PSM/down/, File: train.csv, Shape: (132481, 25)\n",
      "PSM_down_train.pkl\n",
      "Saved to: processed/PSM_down_train.pkl\n"
     ]
    }
   ],
   "source": [
    "dataset = 'PSM/down/'\n",
    "# dataset = ['SMAP', 'MSL']\n",
    "load_data(dataset)"
   ]
  },
  {
   "cell_type": "code",
   "execution_count": 5,
   "metadata": {},
   "outputs": [
    {
     "name": "stdout",
     "output_type": "stream",
     "text": [
      "Files in dataset folder 'PSM': ['test_label.csv', 'origin_data', 'test.csv', 'train.csv', 'down']\n",
      "Processing file: PSM/test_label.csv\n",
      "Dataset Folder: PSM, File: test_label.csv, Shape: (87841, 1)\n",
      "PSM_test_label.pkl\n",
      "Saved to: processed/PSM_test_label.pkl\n",
      "Processing file: PSM/test.csv\n",
      "Dataset Folder: PSM, File: test.csv, Shape: (87841, 25)\n",
      "PSM_test.pkl\n",
      "Saved to: processed/PSM_test.pkl\n",
      "Processing file: PSM/train.csv\n",
      "Dataset Folder: PSM, File: train.csv, Shape: (132481, 25)\n",
      "PSM_train.pkl\n",
      "Saved to: processed/PSM_train.pkl\n"
     ]
    }
   ],
   "source": [
    "dataset = 'PSM'\n",
    "# dataset = ['SMAP', 'MSL']\n",
    "load_data(dataset)"
   ]
  }
 ],
 "metadata": {
  "kernelspec": {
   "display_name": "py36",
   "language": "python",
   "name": "python3"
  },
  "language_info": {
   "codemirror_mode": {
    "name": "ipython",
    "version": 3
   },
   "file_extension": ".py",
   "mimetype": "text/x-python",
   "name": "python",
   "nbconvert_exporter": "python",
   "pygments_lexer": "ipython3",
   "version": "3.10.15"
  }
 },
 "nbformat": 4,
 "nbformat_minor": 2
}

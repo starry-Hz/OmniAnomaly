{
 "cells": [
  {
   "cell_type": "code",
   "execution_count": 2,
   "metadata": {},
   "outputs": [],
   "source": [
    "import os\n",
    "import pandas as pd\n",
    "import numpy as np\n",
    "from pickle import dump\n",
    "output_folder = 'processed'  # 定义保存目录\n",
    "os.makedirs(output_folder, exist_ok=True)  # 如果目录不存在，则创建"
   ]
  },
  {
   "cell_type": "code",
   "execution_count": 3,
   "metadata": {},
   "outputs": [],
   "source": [
    "def load_and_save(filename, dataset_folder):\n",
    "    \"\"\"\n",
    "    处理单个文件：加载 CSV 文件，将其转换为 NumPy 数组并保存为 .pkl 格式。\n",
    "    \n",
    "    Parameters:\n",
    "        filename (str): 要加载的文件名。\n",
    "        dataset_folder (str): 数据集所在的主目录。\n",
    "    \"\"\"\n",
    "    file_path = os.path.join(dataset_folder, filename)\n",
    "    print(f\"Processing file: {file_path}\")\n",
    "    \n",
    "    # 读取 CSV 文件并转换为 NumPy 数组\n",
    "    try:\n",
    "        # .iloc[1:,1:] 删除标题行和timestamp .iloc[1:,1:]\n",
    "        df = pd.read_csv(file_path)\n",
    "        if 'load_time' in df.columns:\n",
    "            df = df.drop(columns=['load_time'])\n",
    "        # print(df)\n",
    "        temp = df.values.astype(np.float32)\n",
    "        print(f\"Dataset Folder: {dataset_folder}, File: {filename}, Shape: {temp.shape}\")\n",
    "\n",
    "        # 定义输出文件夹并确保其存在\n",
    "        output_folder = 'processed'\n",
    "        os.makedirs(output_folder, exist_ok=True)\n",
    "\n",
    "        # 生成输出文件名并保存为 .pkl\n",
    "        base_name = os.path.splitext(filename)[0]  # 去掉扩展名\n",
    "        formatted_dataset = dataset_folder.replace(os.sep, \"_\")  # 替换路径分隔符为 '_'\n",
    "        save_name = f\"els_{formatted_dataset}_{base_name}.pkl\".replace(\"__\", \"_\")  # 清理多余下划线\n",
    "        # save_name = f\"{formatted_dataset}_{base_name}.pkl\"\n",
    "        print(save_name)\n",
    "        save_path = os.path.join(output_folder, save_name)\n",
    "        \n",
    "        with open(save_path, \"wb\") as file:\n",
    "            dump(temp, file)\n",
    "        print(f\"Saved to: {save_path}\")\n",
    "    except Exception as e:\n",
    "        print(f\"Error processing {filename}: {e}\")\n",
    "        \n",
    "def load_data(dataset_folder):\n",
    "    \"\"\"\n",
    "    批量处理数据集目录下的所有 CSV 文件。\n",
    "\n",
    "    Parameters:\n",
    "        dataset_folder (str): 数据集所在的主目录。\n",
    "    \"\"\"\n",
    "    file_list = os.listdir(dataset_folder)  # 列出目录中的所有文件\n",
    "    print(f\"Files in dataset folder '{dataset_folder}': {file_list}\")\n",
    "    \n",
    "    # 遍历文件，处理所有 CSV 文件\n",
    "    for filename in file_list:\n",
    "        if filename.endswith('.csv'):\n",
    "            load_and_save(filename, dataset_folder)\n"
   ]
  },
  {
   "cell_type": "code",
   "execution_count": 4,
   "metadata": {},
   "outputs": [
    {
     "name": "stdout",
     "output_type": "stream",
     "text": [
      "Files in dataset folder 'origin': ['test_label.csv', 'test.csv', 'train.csv']\n",
      "Processing file: origin/test_label.csv\n",
      "Dataset Folder: origin, File: test_label.csv, Shape: (1786, 1)\n",
      "els_origin_test_label.pkl\n",
      "Saved to: processed/els_origin_test_label.pkl\n",
      "Processing file: origin/test.csv\n",
      "Dataset Folder: origin, File: test.csv, Shape: (1786, 17)\n",
      "els_origin_test.pkl\n",
      "Saved to: processed/els_origin_test.pkl\n",
      "Processing file: origin/train.csv\n",
      "Dataset Folder: origin, File: train.csv, Shape: (6865, 17)\n",
      "els_origin_train.pkl\n",
      "Saved to: processed/els_origin_train.pkl\n"
     ]
    }
   ],
   "source": [
    "dataset = 'origin'\n",
    "# dataset = ['SMAP', 'MSL']\n",
    "load_data(dataset)"
   ]
  }
 ],
 "metadata": {
  "kernelspec": {
   "display_name": "grelen",
   "language": "python",
   "name": "python3"
  },
  "language_info": {
   "codemirror_mode": {
    "name": "ipython",
    "version": 3
   },
   "file_extension": ".py",
   "mimetype": "text/x-python",
   "name": "python",
   "nbconvert_exporter": "python",
   "pygments_lexer": "ipython3",
   "version": "3.10.15"
  }
 },
 "nbformat": 4,
 "nbformat_minor": 2
}
